{
 "cells": [
  {
   "cell_type": "code",
   "execution_count": 1,
   "id": "d13f5bc7-218f-423a-8f45-3ebdfcc5d1b6",
   "metadata": {},
   "outputs": [
    {
     "name": "stdin",
     "output_type": "stream",
     "text": [
      "enter the marks 55\n"
     ]
    },
    {
     "name": "stdout",
     "output_type": "stream",
     "text": [
      "The grade of the student is D\n"
     ]
    }
   ],
   "source": [
    "student_marks=int(input(\"enter the marks\"))\n",
    "if student_marks>90 :\n",
    "    print(\"The grade of the student is {}\".format(\"A\"))\n",
    "elif student_marks>80 and student_marks<=90:\n",
    "    print(\"The grade of the student is {}\".format(\"B\"))\n",
    "elif student_marks>=60 and student_marks<=80:\n",
    "    print(\"The grade of the student is {}\".format(\"C\"))\n",
    "elif student_marks<60:\n",
    "    print(\"The grade of the student is {}\".format(\"D\"))\n"
   ]
  },
  {
   "cell_type": "code",
   "execution_count": 2,
   "id": "f16a220a-0579-4032-ac3c-2c89d01dc6ad",
   "metadata": {},
   "outputs": [
    {
     "name": "stdin",
     "output_type": "stream",
     "text": [
      "enter the cost price 50000\n"
     ]
    },
    {
     "name": "stdout",
     "output_type": "stream",
     "text": [
      "the taxt amount id 5% and your total amount is 2500.0\n"
     ]
    }
   ],
   "source": [
    "cost_price=int(input(\"enter the cost price\"))\n",
    "if cost_price>100000:\n",
    "    print(\"the taxt amount id 15% and your total amount is {}\".format(100000*0.15))\n",
    "elif cost_price>50000 and cost_price<=100000:\n",
    "    print(\"the taxt amount id 10% and your total amount is {}\".format(50000*0.1 and 100000*0.1))\n",
    "elif cost_price <=50000:\n",
    "    print(\"the taxt amount id 5% and your total amount is {}\".format(50000*0.05))"
   ]
  },
  {
   "cell_type": "code",
   "execution_count": 3,
   "id": "51aec159-907f-4ee1-8650-d5e5e4661c4c",
   "metadata": {},
   "outputs": [
    {
     "name": "stdin",
     "output_type": "stream",
     "text": [
      "enter the name of the city delhi\n"
     ]
    },
    {
     "name": "stdout",
     "output_type": "stream",
     "text": [
      "you can visit RED FORTdelhi\n"
     ]
    }
   ],
   "source": [
    "city_name = input(\"enter the name of the city\")\n",
    "if city_name == \"delhi\":\n",
    "    print(\"you can visit RED FORT{}\".format(city_name))\n",
    "elif city_name== \"agra\":\n",
    "     print(\"you can visit TAJ MAHAL{}\".format(city_name))\n",
    "elif city_name == \"jaipur\":\n",
    "    print(\"you can visit JAL MAHAL{}\".format(city_name))"
   ]
  },
  {
   "cell_type": "code",
   "execution_count": 4,
   "id": "4220ac65-e96c-41a7-a13a-72f419883598",
   "metadata": {},
   "outputs": [
    {
     "name": "stdout",
     "output_type": "stream",
     "text": [
      "3\n"
     ]
    }
   ],
   "source": [
    "def divide_by_3(n):\n",
    "    count = 0\n",
    "    while n > 10:\n",
    "        n = n / 3\n",
    "        count += 1\n",
    "    return count\n",
    "\n",
    "number = 99\n",
    "result = divide_by_3(number)\n",
    "print(result)"
   ]
  },
  {
   "cell_type": "markdown",
   "id": "fe1f6d1b-29b0-4bd2-bd7d-a26804886aa3",
   "metadata": {
    "tags": []
   },
   "source": [
    "# 5.why and when to use while loop in python give detailed description with example?"
   ]
  },
  {
   "cell_type": "markdown",
   "id": "eb9eb507-6210-44f2-8f04-b1f03a9b538d",
   "metadata": {},
   "source": [
    "# ansswer.With the while loop we can execute a set of statements as long as a condition is true.\n",
    "### The while loop requires relevant variables to be ready, in this example we need to define an indexing variable, i, which we set to 1.The while statement simply loops until a condition is False.\n",
    "##### example----i = 1\n",
    "##### while i < 6:\n",
    "##### print(i)\n",
    "##### i += 1"
   ]
  },
  {
   "cell_type": "markdown",
   "id": "f5df853c-7e87-49eb-abec-fa282a157608",
   "metadata": {},
   "source": [
    "# 6.use nested while loop to print 3 different pattern?"
   ]
  },
  {
   "cell_type": "code",
   "execution_count": 14,
   "id": "1cf4e50e-31b7-4370-9c30-defe69bb7fc2",
   "metadata": {},
   "outputs": [
    {
     "name": "stdout",
     "output_type": "stream",
     "text": [
      "* \n",
      "* * \n",
      "* * * \n",
      "* * * * \n",
      "* * * * * \n"
     ]
    }
   ],
   "source": [
    "#answer.\n",
    "rows = 5\n",
    "for i in range(0, rows):\n",
    "    # nested loop for each column\n",
    "    for j in range(0, i + 1):\n",
    "        # print star\n",
    "        print(\"*\", end=' ')\n",
    "    # new line after each row\n",
    "    print(\"\\r\")"
   ]
  },
  {
   "cell_type": "code",
   "execution_count": 16,
   "id": "7d34a1c0-828f-48c5-95bb-42d498bf3517",
   "metadata": {},
   "outputs": [
    {
     "name": "stdout",
     "output_type": "stream",
     "text": [
      "        * \n",
      "      * * \n",
      "    * * * \n",
      "  * * * * \n",
      "* * * * * \n"
     ]
    }
   ],
   "source": [
    "#2nd pattern\n",
    "rows = 5\n",
    "k = 2 * rows - 2\n",
    "for i in range(0, rows):\n",
    "    # process each column\n",
    "    for j in range(0, k):\n",
    "        # print space in pyramid\n",
    "        print(end=\" \")\n",
    "    k = k - 2\n",
    "    for j in range(0, i + 1):\n",
    "        # display star\n",
    "        print(\"* \", end=\"\")\n",
    "    print(\"\")"
   ]
  },
  {
   "cell_type": "code",
   "execution_count": 17,
   "id": "caaa4f80-94f2-4aba-a54c-2318d10343b7",
   "metadata": {},
   "outputs": [
    {
     "name": "stdout",
     "output_type": "stream",
     "text": [
      "* \n",
      "* * \n",
      "* * * \n",
      "* * * * \n",
      "* * * * * \n"
     ]
    }
   ],
   "source": [
    "#3rd pattern\n",
    "rows = 5\n",
    "for j in range(1, rows+1):\n",
    "    print(\"* \" * j)"
   ]
  },
  {
   "cell_type": "markdown",
   "id": "87a8c5e8-41c3-454a-91da-26302743f5f5",
   "metadata": {},
   "source": [
    "## Reverse a while loop to display number from 10 to 1."
   ]
  },
  {
   "cell_type": "code",
   "execution_count": 22,
   "id": "8b5ef723-7bf2-4a1c-b395-34f4e10b43ad",
   "metadata": {},
   "outputs": [
    {
     "name": "stdout",
     "output_type": "stream",
     "text": [
      "654321\n"
     ]
    }
   ],
   "source": [
    "#answer\n",
    "num = 123456\n",
    "print(str(num)[::-1])"
   ]
  },
  {
   "cell_type": "code",
   "execution_count": null,
   "id": "6b4dcae3-7861-4efa-918b-659f110688f1",
   "metadata": {},
   "outputs": [],
   "source": []
  }
 ],
 "metadata": {
  "kernelspec": {
   "display_name": "Python 3 (ipykernel)",
   "language": "python",
   "name": "python3"
  },
  "language_info": {
   "codemirror_mode": {
    "name": "ipython",
    "version": 3
   },
   "file_extension": ".py",
   "mimetype": "text/x-python",
   "name": "python",
   "nbconvert_exporter": "python",
   "pygments_lexer": "ipython3",
   "version": "3.10.8"
  }
 },
 "nbformat": 4,
 "nbformat_minor": 5
}
